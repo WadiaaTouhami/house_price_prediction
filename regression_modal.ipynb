{
 "cells": [
  {
   "cell_type": "markdown",
   "metadata": {
    "slideshow": {
     "slide_type": "slide"
    }
   },
   "source": [
    "# Regression : House Price Prediction"
   ]
  },
  {
   "cell_type": "code",
   "execution_count": 1,
   "metadata": {
    "slideshow": {
     "slide_type": "slide"
    }
   },
   "outputs": [
    {
     "data": {
      "text/html": [
       "<div>\n",
       "<style scoped>\n",
       "    .dataframe tbody tr th:only-of-type {\n",
       "        vertical-align: middle;\n",
       "    }\n",
       "\n",
       "    .dataframe tbody tr th {\n",
       "        vertical-align: top;\n",
       "    }\n",
       "\n",
       "    .dataframe thead th {\n",
       "        text-align: right;\n",
       "    }\n",
       "</style>\n",
       "<table border=\"1\" class=\"dataframe\">\n",
       "  <thead>\n",
       "    <tr style=\"text-align: right;\">\n",
       "      <th></th>\n",
       "      <th>longitude</th>\n",
       "      <th>latitude</th>\n",
       "      <th>housing_median_age</th>\n",
       "      <th>total_rooms</th>\n",
       "      <th>population</th>\n",
       "      <th>households</th>\n",
       "      <th>median_income</th>\n",
       "      <th>rooms_per_household</th>\n",
       "      <th>bedrooms_per_room</th>\n",
       "      <th>population_per_household</th>\n",
       "      <th>ocean_1</th>\n",
       "      <th>ocean_2</th>\n",
       "      <th>ocean_3</th>\n",
       "      <th>ocean_4</th>\n",
       "      <th>ocean_5</th>\n",
       "      <th>median_house_value</th>\n",
       "    </tr>\n",
       "  </thead>\n",
       "  <tbody>\n",
       "    <tr>\n",
       "      <th>0</th>\n",
       "      <td>-1.498801e-15</td>\n",
       "      <td>0.872078</td>\n",
       "      <td>-0.821368</td>\n",
       "      <td>1.060025</td>\n",
       "      <td>0.762658</td>\n",
       "      <td>1.810501</td>\n",
       "      <td>0.078757</td>\n",
       "      <td>-1.545452</td>\n",
       "      <td>1.586059</td>\n",
       "      <td>-2.511716</td>\n",
       "      <td>1.0</td>\n",
       "      <td>0.0</td>\n",
       "      <td>0.0</td>\n",
       "      <td>0.0</td>\n",
       "      <td>0.0</td>\n",
       "      <td>240000.0</td>\n",
       "    </tr>\n",
       "    <tr>\n",
       "      <th>1</th>\n",
       "      <td>-1.471046e-15</td>\n",
       "      <td>0.861019</td>\n",
       "      <td>-0.652535</td>\n",
       "      <td>1.449561</td>\n",
       "      <td>1.413273</td>\n",
       "      <td>1.505998</td>\n",
       "      <td>0.637755</td>\n",
       "      <td>0.033086</td>\n",
       "      <td>-0.145523</td>\n",
       "      <td>-0.097845</td>\n",
       "      <td>1.0</td>\n",
       "      <td>0.0</td>\n",
       "      <td>0.0</td>\n",
       "      <td>0.0</td>\n",
       "      <td>0.0</td>\n",
       "      <td>250000.0</td>\n",
       "    </tr>\n",
       "    <tr>\n",
       "      <th>2</th>\n",
       "      <td>2.053913e-15</td>\n",
       "      <td>-1.372369</td>\n",
       "      <td>0.606412</td>\n",
       "      <td>-1.014326</td>\n",
       "      <td>-1.572720</td>\n",
       "      <td>-1.511673</td>\n",
       "      <td>-0.326826</td>\n",
       "      <td>1.523596</td>\n",
       "      <td>0.446924</td>\n",
       "      <td>-0.226179</td>\n",
       "      <td>0.0</td>\n",
       "      <td>1.0</td>\n",
       "      <td>0.0</td>\n",
       "      <td>0.0</td>\n",
       "      <td>0.0</td>\n",
       "      <td>134400.0</td>\n",
       "    </tr>\n",
       "    <tr>\n",
       "      <th>3</th>\n",
       "      <td>-1.526557e-15</td>\n",
       "      <td>0.890389</td>\n",
       "      <td>-0.243525</td>\n",
       "      <td>0.579703</td>\n",
       "      <td>0.367230</td>\n",
       "      <td>0.547590</td>\n",
       "      <td>0.833675</td>\n",
       "      <td>0.152906</td>\n",
       "      <td>-0.305407</td>\n",
       "      <td>-0.401924</td>\n",
       "      <td>1.0</td>\n",
       "      <td>0.0</td>\n",
       "      <td>0.0</td>\n",
       "      <td>0.0</td>\n",
       "      <td>0.0</td>\n",
       "      <td>287600.0</td>\n",
       "    </tr>\n",
       "    <tr>\n",
       "      <th>4</th>\n",
       "      <td>-2.220446e-16</td>\n",
       "      <td>0.660449</td>\n",
       "      <td>1.407146</td>\n",
       "      <td>-0.671688</td>\n",
       "      <td>-0.045275</td>\n",
       "      <td>-0.356063</td>\n",
       "      <td>-1.907712</td>\n",
       "      <td>-0.961195</td>\n",
       "      <td>1.693039</td>\n",
       "      <td>0.889069</td>\n",
       "      <td>0.0</td>\n",
       "      <td>1.0</td>\n",
       "      <td>0.0</td>\n",
       "      <td>0.0</td>\n",
       "      <td>0.0</td>\n",
       "      <td>49600.0</td>\n",
       "    </tr>\n",
       "  </tbody>\n",
       "</table>\n",
       "</div>"
      ],
      "text/plain": [
       "      longitude  latitude  housing_median_age  total_rooms  population  \\\n",
       "0 -1.498801e-15  0.872078           -0.821368     1.060025    0.762658   \n",
       "1 -1.471046e-15  0.861019           -0.652535     1.449561    1.413273   \n",
       "2  2.053913e-15 -1.372369            0.606412    -1.014326   -1.572720   \n",
       "3 -1.526557e-15  0.890389           -0.243525     0.579703    0.367230   \n",
       "4 -2.220446e-16  0.660449            1.407146    -0.671688   -0.045275   \n",
       "\n",
       "   households  median_income  rooms_per_household  bedrooms_per_room  \\\n",
       "0    1.810501       0.078757            -1.545452           1.586059   \n",
       "1    1.505998       0.637755             0.033086          -0.145523   \n",
       "2   -1.511673      -0.326826             1.523596           0.446924   \n",
       "3    0.547590       0.833675             0.152906          -0.305407   \n",
       "4   -0.356063      -1.907712            -0.961195           1.693039   \n",
       "\n",
       "   population_per_household  ocean_1  ocean_2  ocean_3  ocean_4  ocean_5  \\\n",
       "0                 -2.511716      1.0      0.0      0.0      0.0      0.0   \n",
       "1                 -0.097845      1.0      0.0      0.0      0.0      0.0   \n",
       "2                 -0.226179      0.0      1.0      0.0      0.0      0.0   \n",
       "3                 -0.401924      1.0      0.0      0.0      0.0      0.0   \n",
       "4                  0.889069      0.0      1.0      0.0      0.0      0.0   \n",
       "\n",
       "   median_house_value  \n",
       "0            240000.0  \n",
       "1            250000.0  \n",
       "2            134400.0  \n",
       "3            287600.0  \n",
       "4             49600.0  "
      ]
     },
     "execution_count": 1,
     "metadata": {},
     "output_type": "execute_result"
    }
   ],
   "source": [
    "import numpy as np\n",
    "import matplotlib.pyplot as plt\n",
    "import seaborn as sns\n",
    "import pandas as pd\n",
    "\n",
    "# Loading of prepared training dataset\n",
    "df_train = pd.read_csv('housing_train.csv')\n",
    "df_train.head()"
   ]
  },
  {
   "cell_type": "code",
   "execution_count": 2,
   "metadata": {
    "slideshow": {
     "slide_type": "slide"
    }
   },
   "outputs": [
    {
     "name": "stdout",
     "output_type": "stream",
     "text": [
      "X_train: (16512, 15) ; y_train: (16512,)\n"
     ]
    }
   ],
   "source": [
    "# Extracting X_train (n_samples, n_features) and y_train (target variable)\n",
    "X_train = df_train.drop(\"median_house_value\", axis=1)  \n",
    "y_train = df_train[\"median_house_value\"].to_numpy() \n",
    "\n",
    "print('X_train:', X_train.shape, '; y_train:', np.shape(y_train))\n"
   ]
  },
  {
   "cell_type": "code",
   "execution_count": 3,
   "metadata": {
    "slideshow": {
     "slide_type": "slide"
    }
   },
   "outputs": [
    {
     "name": "stdout",
     "output_type": "stream",
     "text": [
      "X_test: (4128, 15) ; y_test: (4128,)\n"
     ]
    }
   ],
   "source": [
    "# Loading of prepared testing dataset\n",
    "df_test = pd.read_csv('housing_test.csv')\n",
    "# extracting X_test and y_test\n",
    "X_test= df_test.drop(\"median_house_value\", axis=1) \n",
    "y_test = df_test[\"median_house_value\"].to_numpy() \n",
    "print('X_test:', X_test.shape, '; y_test:', np.shape(y_test))"
   ]
  },
  {
   "cell_type": "markdown",
   "metadata": {
    "slideshow": {
     "slide_type": "slide"
    }
   },
   "source": [
    "# Modeling & Validation"
   ]
  },
  {
   "cell_type": "code",
   "execution_count": 4,
   "metadata": {
    "slideshow": {
     "slide_type": "slide"
    }
   },
   "outputs": [],
   "source": [
    "# https://scikit-learn.org/stable/modules/generated/sklearn.pipeline.Pipeline.html\n",
    "from sklearn.pipeline import Pipeline\n",
    "\n",
    "# https://scikit-learn.org/stable/modules/linear_model.html#\n",
    "from sklearn.linear_model import LinearRegression, Ridge\n",
    "\n",
    "# https://scikit-learn.org/stable/modules/model_evaluation.html\n",
    "from sklearn.metrics import mean_absolute_percentage_error, r2_score \n",
    "\n",
    "# https://scikit-learn.org/stable/model_selection.html\n",
    "from sklearn.model_selection import KFold, GridSearchCV, cross_val_score"
   ]
  },
  {
   "cell_type": "code",
   "execution_count": 5,
   "metadata": {
    "slideshow": {
     "slide_type": "slide"
    }
   },
   "outputs": [
    {
     "name": "stdout",
     "output_type": "stream",
     "text": [
      "LinearRegression:  {'copy_X': True, 'fit_intercept': True, 'n_jobs': None, 'normalize': 'deprecated', 'positive': False}\n",
      "Ridge: {'alpha': 1.0, 'copy_X': True, 'fit_intercept': True, 'max_iter': None, 'normalize': 'deprecated', 'positive': False, 'random_state': None, 'solver': 'auto', 'tol': 0.001}\n"
     ]
    }
   ],
   "source": [
    "# Defaut hyperparameters\n",
    "print(\"LinearRegression: \", LinearRegression().get_params())\n",
    "print(\"Ridge:\", Ridge().get_params())"
   ]
  },
  {
   "cell_type": "code",
   "execution_count": 6,
   "metadata": {
    "slideshow": {
     "slide_type": "slide"
    }
   },
   "outputs": [],
   "source": [
    "pipelines = []\n",
    "params = []\n",
    "names = []\n",
    "\n",
    "# Add LinearRegresion Model\n",
    "pipelines.append(Pipeline([('clf', LinearRegression())])) ## LinearRegression\n",
    "params.append({}) # use default hyperparameters\n",
    "names.append('LinearRegression')\n",
    "\n",
    "# Add Ridge\n",
    "pipelines.append(Pipeline([('clf', Ridge())])) ## Ridge\n",
    "params.append({'clf__alpha':np.linspace(1, 10, 10)}) # # fine-tuning of alpha\n",
    "names.append('Ridge')"
   ]
  },
  {
   "cell_type": "code",
   "execution_count": 7,
   "metadata": {
    "slideshow": {
     "slide_type": "slide"
    }
   },
   "outputs": [
    {
     "name": "stdout",
     "output_type": "stream",
     "text": [
      "LinearRegression R2: 0.6119046502450434\n",
      "Ridge R2: 0.6119141413021839\n"
     ]
    }
   ],
   "source": [
    "# training with K-fold cross-validation & fine-tuning of hyperparameters with GridSearchCV\n",
    "# n_jobs = -1 means using all processors\n",
    "\n",
    "def modeling(pipeline, parameters, name, X, y):    \n",
    "    cv = KFold(n_splits=5, shuffle=True, random_state=32) # KFold with 10 folds\n",
    "    grid_obj = GridSearchCV(estimator=pipeline, param_grid=parameters, cv=cv, scoring='r2', n_jobs=-1)\n",
    "    grid_obj.fit(X,y)  # supervised training on k-1 folds\n",
    "    print(name, 'R2:', grid_obj.best_score_)\n",
    "    estimator = grid_obj.best_estimator_ # best model has the highest R2 score\n",
    "    estimator.fit(X,y) # training on all the training dataset\n",
    "    return estimator \n",
    "estimators = []\n",
    "for i in range(len(pipelines)): # build two estimators    \n",
    "    estimators.append(modeling(pipelines[i], params[i], names[i], X_train, y_train))"
   ]
  },
  {
   "cell_type": "markdown",
   "metadata": {
    "slideshow": {
     "slide_type": "slide"
    }
   },
   "source": [
    "# RandomForestRegressor"
   ]
  },
  {
   "cell_type": "code",
   "execution_count": 8,
   "metadata": {
    "slideshow": {
     "slide_type": "slide"
    }
   },
   "outputs": [
    {
     "name": "stdout",
     "output_type": "stream",
     "text": [
      "{'bootstrap': True, 'ccp_alpha': 0.0, 'criterion': 'squared_error', 'max_depth': None, 'max_features': 'auto', 'max_leaf_nodes': None, 'max_samples': None, 'min_impurity_decrease': 0.0, 'min_samples_leaf': 1, 'min_samples_split': 2, 'min_weight_fraction_leaf': 0.0, 'n_estimators': 100, 'n_jobs': None, 'oob_score': False, 'random_state': None, 'verbose': 0, 'warm_start': False}\n",
      "RandomForestRegressor R2: 0.7818638196618466\n"
     ]
    }
   ],
   "source": [
    "from sklearn.ensemble import RandomForestRegressor\n",
    "\n",
    "# default hyperparameters\n",
    "print(RandomForestRegressor().get_params())\n",
    "\n",
    "# Add RandomForestRegressor \n",
    "pipelines.append(Pipeline([('clf', RandomForestRegressor())])) \n",
    "params.append({'clf__n_estimators': [50,100,150,200,250,300], 'clf__max_depth':[3,5,10]}) # fine-tuning de n_estimators\n",
    "names.append('RandomForestRegressor')\n",
    "\n",
    "# build RandomForestRegressor estimator\n",
    "estimators.append(modeling(pipelines[-1], params[-1], names[-1], X_train, y_train))"
   ]
  },
  {
   "cell_type": "code",
   "execution_count": 9,
   "metadata": {
    "slideshow": {
     "slide_type": "slide"
    }
   },
   "outputs": [
    {
     "name": "stdout",
     "output_type": "stream",
     "text": [
      "\n",
      "Performance of LinearRegression\n",
      "mean_squared_error : 0.3170187308083347\n",
      "r2_score : 0.6222041218131589\n",
      "\n",
      "Performance of Ridge\n",
      "mean_squared_error : 0.3170325274330896\n",
      "r2_score : 0.622161481526379\n",
      "\n",
      "Performance of RandomForestRegressor\n",
      "mean_squared_error : 0.19993418663279036\n",
      "r2_score : 0.7881038287539117\n"
     ]
    }
   ],
   "source": [
    "# Performance evaluation on testing dataset\n",
    "for i, estimator in enumerate(estimators):\n",
    "    print('\\nPerformance of', names[i])\n",
    "    y_pred = estimator.predict(X_test)\n",
    "    print('p_mean_squared_error :', mean_absolute_percentage_error(y_test, y_pred))    \n",
    "    print('r2_score :', r2_score(y_test, y_pred))"
   ]
  },
  {
   "cell_type": "code",
   "execution_count": 10,
   "metadata": {
    "slideshow": {
     "slide_type": "slide"
    }
   },
   "outputs": [
    {
     "data": {
      "text/plain": [
       "['RandomForestRegressor.pkl']"
      ]
     },
     "execution_count": 10,
     "metadata": {},
     "output_type": "execute_result"
    }
   ],
   "source": [
    "# save the best model RandomForestRegressor with dump() \n",
    "import joblib  \n",
    "\n",
    "joblib.dump(estimators[2], names[2]+\".pkl\")\n",
    "\n",
    "# load the model\n",
    "# RF_regressor = joblib.load(names[2]+\"pkl\")"
   ]
  }
 ],
 "metadata": {
  "celltoolbar": "Diaporama",
  "kernelspec": {
   "display_name": "Python 3 (ipykernel)",
   "language": "python",
   "name": "python3"
  },
  "language_info": {
   "codemirror_mode": {
    "name": "ipython",
    "version": 3
   },
   "file_extension": ".py",
   "mimetype": "text/x-python",
   "name": "python",
   "nbconvert_exporter": "python",
   "pygments_lexer": "ipython3",
   "version": "3.9.13"
  }
 },
 "nbformat": 4,
 "nbformat_minor": 4
}
